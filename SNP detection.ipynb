{
 "cells": [
  {
   "cell_type": "markdown",
   "metadata": {},
   "source": [
    "#SNP Detection"
   ]
  },
  {
   "cell_type": "markdown",
   "metadata": {},
   "source": [
    "##Setting the dependencies"
   ]
  },
  {
   "cell_type": "code",
   "execution_count": 5,
   "metadata": {
    "collapsed": false
   },
   "outputs": [
    {
     "name": "stdout",
     "output_type": "stream",
     "text": [
      "/home/senne/nanopore/SNP/known_SNP_sequence/SNP_sequence.fasta\n",
      "Number of SNPs in reference file:\n",
      "52\n"
     ]
    }
   ],
   "source": [
    "snpFile   = '/home/senne/nanopore/SNP/known_SNP_sequence/SNP_sequence.fasta'  \n",
    "readFile  = '/home/senne/nanopore/SNP/Nanopore_data/2_potential_snp_amplicons_3mism.fasta'\n",
    "resultDir = '/home/senne/nanopore/SNP/results_yannick'\n",
    "fastq_file_name= '/home/senne/nanopore/SNP/Nanopore_data/ligatedSNPs.fastq'\n",
    "bwa       = '/opt/tools/bwa-0.7.15'     # v0.7.5\n",
    "samtools  = '/opt/tools/samtools-1.3.1' # v1.3.1\n",
    "bcftools  = '/opt/tools/bcftools-1.3.1' # v1.3.1\n",
    "\n",
    "# Check\n",
    "!ls {snpFile}\n",
    "print('Number of SNPs in reference file:')\n",
    "!grep -c \">\" {snpFile}\n"
   ]
  },
  {
   "cell_type": "markdown",
   "metadata": {},
   "source": [
    "## Info on the fastq file"
   ]
  },
  {
   "cell_type": "code",
   "execution_count": 6,
   "metadata": {
    "collapsed": false
   },
   "outputs": [
    {
     "data": {
      "text/plain": [
       "(14324, 507.74413571628037, 411.0, 5850, 324.5996162457601)"
      ]
     },
     "execution_count": 6,
     "metadata": {},
     "output_type": "execute_result"
    }
   ],
   "source": [
    "#from collections import Counter\n",
    "#fastq_file_name = 'ligatedSTRs1.fastq'\n",
    "#histogram_data = Counter()\n",
    "hist_array = []\n",
    "hist_arrayG = []\n",
    "hist_arrayA = []\n",
    "hist_arrayC = []\n",
    "hist_arrayT = []\n",
    "with open(fastq_file_name, \"rb\") as infile:\n",
    "    for line in infile:\n",
    "        if line.startswith(b'G'):\n",
    "            read_length = len(line[:-1]) #Last char is \\n\n",
    "            #histogram_data[read_length] += 1\n",
    "            hist_arrayG.append(read_length)\n",
    "with open(fastq_file_name, \"rb\") as infile:\n",
    "    for line in infile:\n",
    "        if line.startswith(b'A'):\n",
    "            read_length = len(line[:-1]) #Last char is \\n\n",
    "            #histogram_data[read_length] += 1\n",
    "            hist_arrayA.append(read_length) \n",
    "with open(fastq_file_name, \"rb\") as infile:\n",
    "    for line in infile:\n",
    "        if line.startswith(b'C'):\n",
    "            read_length = len(line[:-1]) #Last char is \\n\n",
    "            #histogram_data[read_length] += 1\n",
    "            hist_arrayC.append(read_length) \n",
    "with open(fastq_file_name, \"rb\") as infile:\n",
    "    for line in infile:\n",
    "        if line.startswith(b'T'):\n",
    "            read_length = len(line[:-1]) #Last char is \\n\n",
    "            #histogram_data[read_length] += 1\n",
    "            hist_arrayT.append(read_length)\n",
    "\n",
    "hist_array.extend(hist_arrayA)\n",
    "hist_array.extend(hist_arrayC)\n",
    "hist_array.extend(hist_arrayG)\n",
    "hist_array.extend(hist_arrayT)\n",
    "\n",
    "import numpy as np\n",
    "\n",
    "len (hist_array), np.mean(hist_array), np.median(hist_array) , max(hist_array), np.std(hist_array)"
   ]
  },
  {
   "cell_type": "markdown",
   "metadata": {},
   "source": [
    "##Map reads to reference sequences"
   ]
  },
  {
   "cell_type": "code",
   "execution_count": 7,
   "metadata": {
    "collapsed": false,
    "scrolled": true
   },
   "outputs": [
    {
     "name": "stdout",
     "output_type": "stream",
     "text": [
      "[bwa_index] Pack FASTA... 0.00 sec\n",
      "[bwa_index] Construct BWT for the packed sequence...\n",
      "[bwa_index] 0.00 seconds elapse.\n",
      "[bwa_index] Update BWT... 0.00 sec\n",
      "[bwa_index] Pack forward-only FASTA... 0.00 sec\n",
      "[bwa_index] Construct SA from BWT and Occ... 0.00 sec\n",
      "[main] Version: 0.7.15-r1140\n",
      "[main] CMD: /opt/tools/bwa-0.7.15 index /home/senne/nanopore/SNP/known_SNP_sequence/SNP_sequence.fasta\n",
      "[main] Real time: 0.053 sec; CPU: 0.015 sec\n",
      "[M::bwa_idx_load_from_disk] read 0 ALT contigs\n",
      "[M::process] read 23057 sequences (1988758 bp)...\n",
      "[M::mem_process_seqs] Processed 23057 reads in 0.983 CPU sec, 0.102 real sec\n",
      "[main] Version: 0.7.15-r1140\n",
      "[main] CMD: /opt/tools/bwa-0.7.15 mem -t 10 -k 14 -W 20 -r 10 -O 6,6 -E 1 /home/senne/nanopore/SNP/known_SNP_sequence/SNP_sequence.fasta /home/senne/nanopore/SNP/Nanopore_data/2_potential_snp_amplicons_3mism.fasta\n",
      "[main] Real time: 0.282 sec; CPU: 1.017 sec\n",
      "Done\n"
     ]
    }
   ],
   "source": [
    "# Map reads to reference sequences\n",
    "\n",
    "# Build index of the references\n",
    "!{bwa} index {snpFile}\n",
    "\n",
    "# Map reads\n",
    "!{bwa} mem -t 10 -k 14 -W 20 -r 10 -O 6,6 -E 1 {snpFile} {readFile} > {resultDir}/ONTGAP4ttt.sam\n",
    "\n",
    "# Make sorted bam and index\n",
    "\n",
    "!{samtools} view -Sbu {resultDir}/ONTGAP4ttt.sam | {samtools} sort -o {resultDir}/ONTGAP4ttt_sorted.bam -\n",
    "!{samtools} index {resultDir}/ONTGAP4ttt_sorted.bam {resultDir}/ONTGAP4ttt_sorted.bam.bai\n",
    "print('Done')\n",
    "\n"
   ]
  },
  {
   "cell_type": "code",
   "execution_count": 8,
   "metadata": {
    "collapsed": false
   },
   "outputs": [
    {
     "name": "stdout",
     "output_type": "stream",
     "text": [
      "23062 + 0 in total (QC-passed reads + QC-failed reads)\r\n",
      "0 + 0 secondary\r\n",
      "5 + 0 supplementary\r\n",
      "0 + 0 duplicates\r\n",
      "8034 + 0 mapped (34.84% : N/A)\r\n",
      "0 + 0 paired in sequencing\r\n",
      "0 + 0 read1\r\n",
      "0 + 0 read2\r\n",
      "0 + 0 properly paired (N/A : N/A)\r\n",
      "0 + 0 with itself and mate mapped\r\n",
      "0 + 0 singletons (N/A : N/A)\r\n",
      "0 + 0 with mate mapped to a different chr\r\n",
      "0 + 0 with mate mapped to a different chr (mapQ>=5)\r\n"
     ]
    }
   ],
   "source": [
    "# Display some stats\n",
    "\n",
    "!{samtools} flagstat {resultDir}/ONTGAP4ttt_sorted.bam\n"
   ]
  },
  {
   "cell_type": "markdown",
   "metadata": {
    "collapsed": false
   },
   "source": [
    "## Generate vcf file"
   ]
  },
  {
   "cell_type": "code",
   "execution_count": 9,
   "metadata": {
    "collapsed": false
   },
   "outputs": [
    {
     "name": "stdout",
     "output_type": "stream",
     "text": [
      "[mpileup] 1 samples in 1 input files\n",
      "Note: Neither --ploidy nor --ploidy-file given, assuming all sites are diploid\n",
      "[mpileup] 1 samples in 1 input files\n",
      "Note: Neither --ploidy nor --ploidy-file given, assuming all sites are diploid\n",
      "Done\n"
     ]
    }
   ],
   "source": [
    "# Generate vcf file from bam file. Needs the reference and its index file \n",
    "\n",
    "# Note: the commands below are for samtools and bcftools v1.3.1 and will not work on v0.1.19!\n",
    "\n",
    "# Reporting all positions\n",
    "!{samtools} mpileup -d 100000 -uf {snpFile} {resultDir}/ONTGAP4ttt_sorted.bam | {bcftools} call -V indels -m - > {resultDir}/ONTGAP4ttt_sorted.bam.vcf\n",
    "\n",
    "# Reporting variants only (excludes SNPs homozygous for reference allele)\n",
    "!{samtools} mpileup -d 100000 -uf {snpFile} {resultDir}/ONTGAP4ttt_sorted.bam | {bcftools} call -V indels -mv - > {resultDir}/ONTGAP4yyy_sorted.bam.vcf\n",
    "\n",
    "print('Done')"
   ]
  },
  {
   "cell_type": "markdown",
   "metadata": {
    "collapsed": false
   },
   "source": [
    "##Generate the SNP profile "
   ]
  },
  {
   "cell_type": "code",
   "execution_count": 10,
   "metadata": {
    "collapsed": false,
    "scrolled": true
   },
   "outputs": [
    {
     "name": "stdout",
     "output_type": "stream",
     "text": [
      "Got data for 52 SNPs:\n",
      "  rs1005533 (99)  A (61.6 %)  G (38.4 %)\n",
      "  rs1015250 (67)  C (3.0 %)  G (97.0 %)\n",
      "  rs1024116 (111)  A (38.7 %)  G (61.3 %)\n",
      "  rs1028528 (136)  A (2.9 %)  G (97.1 %)\n",
      "  rs1029047 (24)  A (100.0 %)\n",
      "  rs1031825 (82)  A (23.2 %)  C (76.8 %)\n",
      "  rs10495407 (188)  A (60.6 %)  G (39.4 %)\n",
      "  rs1335873 (120)  A (1.7 %)  T (98.3 %)\n",
      "  rs1355366 (166)  A (5.4 %)  G (94.6 %)\n",
      "  rs1357617 (220)  A (100.0 %)\n",
      "  rs1360288 (184)  C (59.8 %)  T (40.2 %)\n",
      "  rs1382387 (207)  G (2.4 %)  T (97.6 %)\n",
      "  rs1413212 (168)  A (64.9 %)  G (35.1 %)\n",
      "  rs1454361 (200)  A (100.0 %)\n",
      "  rs1463729 (157)  A (97.5 %)\n",
      "  rs1490413 (235)  A (98.3 %)\n",
      "  rs1493232 (78)  A (67.9 %)  C (32.1 %)\n",
      "  rs1528460 (85)  C (2.4 %)  T (97.6 %)\n",
      "  rs1886510 (144)  C (4.9 %)  T (95.1 %)\n",
      "  rs1979255 (301)  C (98.0 %)\n",
      "  rs2016276 (70)  A (95.7 %)\n",
      "  rs2040411 (72)  A (0.0 %)  G (100.0 %)\n",
      "  rs2046361 (111)  A (3.6 %)  T (96.4 %)\n",
      "  rs2056277 (199)  C (47.7 %)  T (52.3 %)\n",
      "  rs2076848 (127)  A (72.4 %)  T (27.6 %)\n",
      "  rs2107612 (49)  A (0.0 %)  G (100.0 %)\n",
      "  rs2111980 (212)  A (61.3 %)  G (38.7 %)\n",
      "  rs251934 (136)  C (2.2 %)  T (97.8 %)\n",
      "  rs2830795 (74)  A (74.3 %)  G (25.7 %)\n",
      "  rs2831700 (299)  A (99.0 %)\n",
      "  rs354439 (128)  A (73.4 %)  T (26.6 %)\n",
      "  rs717302 (113)  A (9.7 %)  G (90.3 %)\n",
      "  rs719366 (49)  C (53.1 %)  T (46.9 %)\n",
      "  rs722098 (232)  A (99.1 %)\n",
      "  rs727811 (113)  A (6.2 %)  C (93.8 %)\n",
      "  rs729172 (231)  A (65.4 %)  C (34.6 %)\n",
      "  rs733164 (177)  A (21.5 %)  G (78.5 %)\n",
      "  rs735155 (159)  A (6.3 %)  G (93.7 %)\n",
      "  rs737681 (237)  C (100.0 %)\n",
      "  rs740910 (22)  A (0.0 %)  G (100.0 %)\n",
      "  rs763869 (163)  C (61.3 %)  T (38.7 %)\n",
      "  rs8037429 (69)  C (58.0 %)  T (42.0 %)\n",
      "  rs826472 (144)  C (100.0 %)\n",
      "  rs873196 (149)  C (17.4 %)  T (82.6 %)\n",
      "  rs876724 (118)  C (99.2 %)\n",
      "  rs891700 (39)  A (64.1 %)  G (35.9 %)\n",
      "  rs901398 (204)  C (56.9 %)  T (43.1 %)\n",
      "  rs907100 (150)  C (95.3 %)\n",
      "  rs914165 (165)  A (6.7 %)  G (93.3 %)\n",
      "  rs917118 (407)  C (99.8 %)\n",
      "  rs938283 (101)  C (71.3 %)  T (28.7 %)\n",
      "  rs964681 (81)  C (3.7 %)  T,G (96.3 %)\n"
     ]
    }
   ],
   "source": [
    "# Get SNP profile\n",
    "\n",
    "\n",
    "snpData = {}\n",
    "\n",
    "with open(resultDir+'/ONTGAP4ttt_sorted.bam.vcf') as f:\n",
    "    for l in f:\n",
    "        if l.startswith('#'):\n",
    "            continue\n",
    "            \n",
    "        snp, pos, id, ref, alt, qual, filter, info, d, dd = l.split()\n",
    "        \n",
    "        # Our SNP of interest is always at position 26 of the reference\n",
    "        if int(pos) != 26:\n",
    "            continue\n",
    "\n",
    "        par = {}\n",
    "        for p in info.split(';'):\n",
    "            pv = p.split('=')\n",
    "            par[pv[0]] = pv[1]\n",
    "        \n",
    "        snpData[snp] = {'pos': pos, 'ref': ref, 'alt': alt, 'qual': qual, 'filter': filter, 'info': par}\n",
    "\n",
    "# DEBUG\n",
    "print('Got data for {} SNPs:'.format(len(snpData)))\n",
    "\n",
    "# Save/print results\n",
    "with open(resultDir + '/ttt_profile.csv', 'w') as f:\n",
    "    # Table header\n",
    "    f.write('snp, coverage, ref_allele, ref_percent, alt_allele, alt_percent, genotype\\n')\n",
    "    \n",
    "    # Table data\n",
    "    for s in sorted(snpData.keys()):\n",
    "        totalDepth = int(snpData[s]['info']['DP'])\n",
    "        depthList  = [int(d) for d in snpData[s]['info']['DP4'].split(',')]\n",
    "        refDepth   = sum(depthList[0:2])\n",
    "        altDepth   = sum(depthList[2:4])\n",
    "        \n",
    "        # Estimate the diploid genotype: when the minor allele is more than 10 times weaker than the major allele,\n",
    "        # we should ignore it for a pure sample?\n",
    "        if refDepth > altDepth and altDepth/refDepth < 0.1:\n",
    "            genotype = snpData[s]['ref'] + snpData[s]['ref']\n",
    "        elif altDepth > refDepth and refDepth/altDepth < 0.1:\n",
    "            genotype = snpData[s]['alt'] + snpData[s]['alt']\n",
    "        else:\n",
    "            genotype = snpData[s]['ref'] + snpData[s]['alt']\n",
    "        \n",
    "        if snpData[s]['alt'] == '.':\n",
    "            # Only 1 allele was observed\n",
    "            f.write(','.join([s, str(totalDepth), snpData[s]['ref'], '{:.1f}'.format(100*refDepth/totalDepth), '', '', snpData[s]['ref']+snpData[s]['ref']]) + '\\n')\n",
    "            # DEBUG\n",
    "            print('  {} ({})  {} ({:.1f} %)'.format(s, totalDepth, snpData[s]['ref'], 100*refDepth/totalDepth))\n",
    "        else:\n",
    "            # Two alleles were observed\n",
    "            f.write(','.join([s, str(totalDepth), snpData[s]['ref'], '{:.1f}'.format(100*refDepth/totalDepth), snpData[s]['alt'], '{:.1f}'.format(100*altDepth/totalDepth), genotype]) + '\\n')\n",
    "            # DEBUG\n",
    "            print('  {} ({})  {} ({:.1f} %)  {} ({:.1f} %)'.format(s, totalDepth, snpData[s]['ref'], 100*refDepth/totalDepth, snpData[s]['alt'], 100*altDepth/totalDepth))\n"
   ]
  },
  {
   "cell_type": "code",
   "execution_count": null,
   "metadata": {
    "collapsed": true
   },
   "outputs": [],
   "source": []
  }
 ],
 "metadata": {
  "kernelspec": {
   "display_name": "Python 3",
   "language": "python",
   "name": "python3"
  },
  "language_info": {
   "codemirror_mode": {
    "name": "ipython",
    "version": 3
   },
   "file_extension": ".py",
   "mimetype": "text/x-python",
   "name": "python",
   "nbconvert_exporter": "python",
   "pygments_lexer": "ipython3",
   "version": "3.3.0"
  }
 },
 "nbformat": 4,
 "nbformat_minor": 0
}
