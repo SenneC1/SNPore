{
 "cells": [
  {
   "cell_type": "code",
   "execution_count": 2,
   "metadata": {
    "collapsed": false
   },
   "outputs": [
    {
     "name": "stdout",
     "output_type": "stream",
     "text": [
      "/home/senne/nanopore/SNP/known_SNP_sequence/SNP_sequence.fasta\n",
      "Number of SNPs in reference file:\n",
      "52\n"
     ]
    }
   ],
   "source": [
    "# Init\n",
    "#\n",
    "\n",
    "snpFile   = '/home/senne/nanopore/SNP/known_SNP_sequence/SNP_sequence.fasta'  # REMOVE FIRST LINE IN ORIGINAL FILE (BREAKS FASTA FORMAT)\n",
    "readFile  = '/home/senne/nanopore/SNP/Nanopore_data/2_potential_snp_amplicons_3mism.fasta'\n",
    "resultDir = '/home/senne/nanopore/SNP/results_yannick'\n",
    "fastq_file_name= '/home/senne/nanopore/SNP/Nanopore_data/ligatedSNPs.fastq'\n",
    "bwa       = '/opt/tools/bwa-0.7.15'            # v0.7.5\n",
    "samtools  = '/opt/tools/samtools-1.3.1' # v1.3.1\n",
    "bcftools  = '/opt/tools/bcftools-1.3.1' # v1.3.1\n",
    "\n",
    "# Check\n",
    "!ls {snpFile}\n",
    "print('Number of SNPs in reference file:')\n",
    "!grep -c \">\" {snpFile}\n"
   ]
  },
  {
   "cell_type": "markdown",
   "metadata": {},
   "source": [
    "## Info on the fastq file"
   ]
  },
  {
   "cell_type": "code",
   "execution_count": 4,
   "metadata": {
    "collapsed": false
   },
   "outputs": [
    {
     "data": {
      "text/plain": [
       "(14324, 507.74413571628037, 411.0, 5850, 324.5996162457601)"
      ]
     },
     "execution_count": 4,
     "metadata": {},
     "output_type": "execute_result"
    }
   ],
   "source": [
    "#from collections import Counter\n",
    "#fastq_file_name = 'ligatedSTRs1.fastq'\n",
    "#histogram_data = Counter()\n",
    "hist_array = []\n",
    "hist_arrayG = []\n",
    "hist_arrayA = []\n",
    "hist_arrayC = []\n",
    "hist_arrayT = []\n",
    "with open(fastq_file_name, \"rb\") as infile:\n",
    "    for line in infile:\n",
    "        if line.startswith(b'G'):\n",
    "            read_length = len(line[:-1]) #Last char is \\n\n",
    "            #histogram_data[read_length] += 1\n",
    "            hist_arrayG.append(read_length)\n",
    "with open(fastq_file_name, \"rb\") as infile:\n",
    "    for line in infile:\n",
    "        if line.startswith(b'A'):\n",
    "            read_length = len(line[:-1]) #Last char is \\n\n",
    "            #histogram_data[read_length] += 1\n",
    "            hist_arrayA.append(read_length) \n",
    "with open(fastq_file_name, \"rb\") as infile:\n",
    "    for line in infile:\n",
    "        if line.startswith(b'C'):\n",
    "            read_length = len(line[:-1]) #Last char is \\n\n",
    "            #histogram_data[read_length] += 1\n",
    "            hist_arrayC.append(read_length) \n",
    "with open(fastq_file_name, \"rb\") as infile:\n",
    "    for line in infile:\n",
    "        if line.startswith(b'T'):\n",
    "            read_length = len(line[:-1]) #Last char is \\n\n",
    "            #histogram_data[read_length] += 1\n",
    "            hist_arrayT.append(read_length)\n",
    "\n",
    "hist_array.extend(hist_arrayA)\n",
    "hist_array.extend(hist_arrayC)\n",
    "hist_array.extend(hist_arrayG)\n",
    "hist_array.extend(hist_arrayT)\n",
    "\n",
    "import numpy as np\n",
    "\n",
    "len (hist_array), np.mean(hist_array), np.median(hist_array) , max(hist_array), np.std(hist_array)"
   ]
  },
  {
   "cell_type": "code",
   "execution_count": 12,
   "metadata": {
    "collapsed": false,
    "scrolled": true
   },
   "outputs": [
    {
     "name": "stdout",
     "output_type": "stream",
     "text": [
      "[bwa_index] Pack FASTA... 0.00 sec\n",
      "[bwa_index] Construct BWT for the packed sequence...\n",
      "[bwa_index] 0.00 seconds elapse.\n",
      "[bwa_index] Update BWT... 0.00 sec\n",
      "[bwa_index] Pack forward-only FASTA... 0.00 sec\n",
      "[bwa_index] Construct SA from BWT and Occ... 0.00 sec\n",
      "[main] Version: 0.7.15-r1140\n",
      "[main] CMD: /opt/tools/bwa-0.7.15 index /home/senne/nanopore/SNP/known_SNP_sequence/SNP_sequence.fasta\n",
      "[main] Real time: 0.016 sec; CPU: 0.006 sec\n",
      "[M::bwa_idx_load_from_disk] read 0 ALT contigs\n",
      "[M::process] read 23057 sequences (1988758 bp)...\n",
      "[M::mem_process_seqs] Processed 23057 reads in 1.265 CPU sec, 0.141 real sec\n",
      "[main] Version: 0.7.15-r1140\n",
      "[main] CMD: /opt/tools/bwa-0.7.15 mem -t 10 -k 14 -W 20 -r 10 -O 6,6 -E 1 /home/senne/nanopore/SNP/known_SNP_sequence/SNP_sequence.fasta /home/senne/nanopore/SNP/Nanopore_data/2_potential_snp_amplicons_3mism.fasta\n",
      "[main] Real time: 0.195 sec; CPU: 1.311 sec\n"
     ]
    }
   ],
   "source": [
    "# Map reads to reference sequences\n",
    "#\n",
    "\n",
    "# Build index of the references\n",
    "!{bwa} index {snpFile}\n",
    "\n",
    "# Map reads\n",
    "!{bwa} mem -t 10 -k 14 -W 20 -r 10 -O 6,6 -E 1 {snpFile} {readFile} > {resultDir}/ONTGAP4ttt.sam\n"
   ]
  },
  {
   "cell_type": "code",
   "execution_count": 13,
   "metadata": {
    "collapsed": false
   },
   "outputs": [
    {
     "name": "stdout",
     "output_type": "stream",
     "text": [
      "Done\n"
     ]
    }
   ],
   "source": [
    "# Make sorted bam and index\n",
    "#\n",
    "\n",
    "!{samtools} view -Sbu {resultDir}/ONTGAP4ttt.sam | {samtools} sort -o {resultDir}/ONTGAP4ttt_sorted.bam -\n",
    "!{samtools} index {resultDir}/ONTGAP4ttt_sorted.bam {resultDir}/ONTGAP4ttt_sorted.bam.bai\n",
    "print('Done')\n"
   ]
  },
  {
   "cell_type": "code",
   "execution_count": 14,
   "metadata": {
    "collapsed": false
   },
   "outputs": [
    {
     "name": "stdout",
     "output_type": "stream",
     "text": [
      "23062 + 0 in total (QC-passed reads + QC-failed reads)\r\n",
      "0 + 0 secondary\r\n",
      "5 + 0 supplementary\r\n",
      "0 + 0 duplicates\r\n",
      "8034 + 0 mapped (34.84% : N/A)\r\n",
      "0 + 0 paired in sequencing\r\n",
      "0 + 0 read1\r\n",
      "0 + 0 read2\r\n",
      "0 + 0 properly paired (N/A : N/A)\r\n",
      "0 + 0 with itself and mate mapped\r\n",
      "0 + 0 singletons (N/A : N/A)\r\n",
      "0 + 0 with mate mapped to a different chr\r\n",
      "0 + 0 with mate mapped to a different chr (mapQ>=5)\r\n"
     ]
    }
   ],
   "source": [
    "# Display some stats\n",
    "#\n",
    "\n",
    "!{samtools} flagstat {resultDir}/ONTGAP4ttt_sorted.bam\n"
   ]
  },
  {
   "cell_type": "code",
   "execution_count": 15,
   "metadata": {
    "collapsed": false
   },
   "outputs": [
    {
     "name": "stdout",
     "output_type": "stream",
     "text": [
      "Note: Neither --ploidy nor --ploidy-file given, assuming all sites are diploid\n",
      "[mpileup] 1 samples in 1 input files\n",
      "Note: Neither --ploidy nor --ploidy-file given, assuming all sites are diploid\n",
      "[mpileup] 1 samples in 1 input files\n",
      "Done\n"
     ]
    }
   ],
   "source": [
    "# Generate vcf file from bam file. Needs the reference and its index file \n",
    "#\n",
    "# Note: the commands below are for samtools and bcftools v1.3.1 (will not work on v0.1.19!)\n",
    "\n",
    "# Reporting all positions\n",
    "!{samtools} mpileup -d 100000 -uf {snpFile} {resultDir}/ONTGAP4ttt_sorted.bam | {bcftools} call -V indels -m - > {resultDir}/ONTGAP4ttt_sorted.bam.vcf\n",
    "\n",
    "# Reporting variants only (excludes SNPs homozygous for reference allele)\n",
    "!{samtools} mpileup -d 100000 -uf {snpFile} {resultDir}/ONTGAP4ttt_sorted.bam | {bcftools} call -V indels -mv - > {resultDir}/ONTGAP4yyy_sorted.bam.vcf\n",
    "\n",
    "print('Done')"
   ]
  },
  {
   "cell_type": "code",
   "execution_count": 16,
   "metadata": {
    "collapsed": false
   },
   "outputs": [
    {
     "name": "stdout",
     "output_type": "stream",
     "text": [
      "##fileformat=VCFv4.2\r\n",
      "##FILTER=<ID=PASS,Description=\"All filters passed\">\r\n",
      "##samtoolsVersion=1.3.1+htslib-1.3.1\r\n",
      "##samtoolsCommand=samtools mpileup -d 100000 -uf /home/senne/nanopore/SNP/known_SNP_sequence/SNP_sequence.fasta /home/senne/nanopore/SNP/results_yannick/ONTGAP2ttt_sorted.bam\r\n",
      "##reference=file:///home/senne/nanopore/SNP/known_SNP_sequence/SNP_sequence.fasta\r\n",
      "##contig=<ID=rs1490413,length=51>\r\n",
      "##contig=<ID=rs876724,length=51>\r\n",
      "##contig=<ID=rs1357617,length=51>\r\n",
      "##contig=<ID=rs2046361,length=51>\r\n",
      "##contig=<ID=rs717302,length=51>\r\n",
      "##contig=<ID=rs1029047,length=51>\r\n",
      "##contig=<ID=rs917118,length=51>\r\n",
      "##contig=<ID=rs763869,length=51>\r\n",
      "##contig=<ID=rs1015250,length=51>\r\n",
      "##contig=<ID=rs735155,length=51>\r\n",
      "##contig=<ID=rs901398,length=51>\r\n",
      "##contig=<ID=rs2107612,length=51>\r\n",
      "##contig=<ID=rs1886510,length=51>\r\n",
      "##contig=<ID=rs1454361,length=51>\r\n",
      "##contig=<ID=rs2016276,length=51>\r\n",
      "##contig=<ID=rs729172,length=51>\r\n",
      "##contig=<ID=rs740910,length=51>\r\n",
      "##contig=<ID=rs1493232,length=51>\r\n",
      "##contig=<ID=rs719366,length=51>\r\n",
      "##contig=<ID=rs1031825,length=51>\r\n",
      "##contig=<ID=rs722098,length=51>\r\n",
      "##contig=<ID=rs733164,length=51>\r\n",
      "##contig=<ID=rs826472,length=51>\r\n",
      "##contig=<ID=rs2831700,length=51>\r\n",
      "##contig=<ID=rs873196,length=51>\r\n",
      "##contig=<ID=rs1382387,length=51>\r\n",
      "##contig=<ID=rs2111980,length=51>\r\n",
      "##contig=<ID=rs2056277,length=51>\r\n",
      "##contig=<ID=rs1024116,length=51>\r\n",
      "##contig=<ID=rs727811,length=51>\r\n",
      "##contig=<ID=rs1413212,length=51>\r\n",
      "##contig=<ID=rs938283,length=51>\r\n",
      "##contig=<ID=rs1979255,length=51>\r\n",
      "##contig=<ID=rs1463729,length=51>\r\n",
      "##contig=<ID=rs2076848,length=51>\r\n",
      "##contig=<ID=rs1355366,length=51>\r\n",
      "##contig=<ID=rs907100,length=51>\r\n",
      "##contig=<ID=rs354439,length=51>\r\n",
      "##contig=<ID=rs2040411,length=51>\r\n",
      "##contig=<ID=rs737681,length=51>\r\n",
      "##contig=<ID=rs2830795,length=51>\r\n",
      "##contig=<ID=rs251934,length=51>\r\n",
      "##contig=<ID=rs914165,length=51>\r\n",
      "##contig=<ID=rs10495407,length=51>\r\n",
      "##contig=<ID=rs1360288,length=51>\r\n",
      "##contig=<ID=rs964681,length=51>\r\n",
      "##contig=<ID=rs1005533,length=51>\r\n",
      "##contig=<ID=rs8037429,length=51>\r\n",
      "##contig=<ID=rs891700,length=51>\r\n",
      "##contig=<ID=rs1335873,length=51>\r\n",
      "##contig=<ID=rs1028528,length=51>\r\n",
      "##contig=<ID=rs1528460,length=51>\r\n",
      "##ALT=<ID=*,Description=\"Represents allele(s) other than observed.\">\r\n",
      "##INFO=<ID=INDEL,Number=0,Type=Flag,Description=\"Indicates that the variant is an INDEL.\">\r\n",
      "##INFO=<ID=IDV,Number=1,Type=Integer,Description=\"Maximum number of reads supporting an indel\">\r\n",
      "##INFO=<ID=IMF,Number=1,Type=Float,Description=\"Maximum fraction of reads supporting an indel\">\r\n",
      "##INFO=<ID=DP,Number=1,Type=Integer,Description=\"Raw read depth\">\r\n",
      "##INFO=<ID=VDB,Number=1,Type=Float,Description=\"Variant Distance Bias for filtering splice-site artefacts in RNA-seq data (bigger is better)\",Version=\"3\">\r\n",
      "##INFO=<ID=RPB,Number=1,Type=Float,Description=\"Mann-Whitney U test of Read Position Bias (bigger is better)\">\r\n",
      "##INFO=<ID=MQB,Number=1,Type=Float,Description=\"Mann-Whitney U test of Mapping Quality Bias (bigger is better)\">\r\n",
      "##INFO=<ID=BQB,Number=1,Type=Float,Description=\"Mann-Whitney U test of Base Quality Bias (bigger is better)\">\r\n",
      "##INFO=<ID=MQSB,Number=1,Type=Float,Description=\"Mann-Whitney U test of Mapping Quality vs Strand Bias (bigger is better)\">\r\n",
      "##INFO=<ID=SGB,Number=1,Type=Float,Description=\"Segregation based metric.\">\r\n",
      "##INFO=<ID=MQ0F,Number=1,Type=Float,Description=\"Fraction of MQ0 reads (smaller is better)\">\r\n",
      "##FORMAT=<ID=PL,Number=G,Type=Integer,Description=\"List of Phred-scaled genotype likelihoods\">\r\n",
      "##FORMAT=<ID=GT,Number=1,Type=String,Description=\"Genotype\">\r\n",
      "##INFO=<ID=ICB,Number=1,Type=Float,Description=\"Inbreeding Coefficient Binomial test (bigger is better)\">\r\n",
      "##INFO=<ID=HOB,Number=1,Type=Float,Description=\"Bias in the number of HOMs number (smaller is better)\">\r\n",
      "##INFO=<ID=AC,Number=A,Type=Integer,Description=\"Allele count in genotypes for each ALT allele, in the same order as listed\">\r\n",
      "##INFO=<ID=AN,Number=1,Type=Integer,Description=\"Total number of alleles in called genotypes\">\r\n",
      "##INFO=<ID=DP4,Number=4,Type=Integer,Description=\"Number of high-quality ref-forward , ref-reverse, alt-forward and alt-reverse bases\">\r\n",
      "##INFO=<ID=MQ,Number=1,Type=Integer,Description=\"Average mapping quality\">\r\n",
      "##bcftools_callVersion=1.3.1+htslib-1.3.1\r\n",
      "##bcftools_callCommand=call -V indels -m -\r\n",
      "#CHROM\tPOS\tID\tREF\tALT\tQUAL\tFILTER\tINFO\tFORMAT\t/home/senne/nanopore/SNP/results_yannick/ONTGAP2ttt_sorted.bam\r\n",
      "rs1490413\t1\t.\tA\t.\t0\t.\tDP=121;MQSB=0.80569;MQ0F=0;AN=2;DP4=44,77,0,0;MQ=55\tGT\t0/0\r\n",
      "rs1490413\t2\t.\tC\t.\t0\t.\tDP=124;MQSB=0.813884;MQ0F=0;AN=2;DP4=45,79,0,0;MQ=55\tGT\t0/0\r\n",
      "rs1490413\t3\t.\tT\t.\t0\t.\tDP=127;MQSB=0.861099;MQ0F=0;AN=2;DP4=45,82,0,0;MQ=55\tGT\t0/0\r\n",
      "rs1490413\t4\t.\tG\t.\t0\t.\tDP=128;MQSB=0.875116;MQ0F=0;AN=2;DP4=45,83,0,0;MQ=55\tGT\t0/0\r\n",
      "rs1490413\t5\t.\tG\t.\t0\t.\tDP=135;MQSB=0.954599;MQ0F=0;AN=2;DP4=47,88,0,0;MQ=56\tGT\t0/0\r\n",
      "rs1490413\t6\t.\tG\t.\t0\t.\tDP=136;MQSB=0.939625;MQ0F=0;AN=2;DP4=48,88,0,0;MQ=56\tGT\t0/0\r\n",
      "rs1490413\t7\t.\tC\t.\t0\t.\tDP=138;SGB=-0.379885;RPB=1;MQB=1;MQSB=0.956775;BQB=1;MQ0F=0;AN=2;DP4=48,89,0,1;MQ=56\tGT\t0/0\r\n",
      "rs1490413\t8\t.\tT\t.\t0\t.\tDP=142;MQSB=0.981754;MQ0F=0;AN=2;DP4=48,94,0,0;MQ=56\tGT\t0/0\r\n",
      "rs1490413\t9\t.\tG\t.\t30.0896\t.\tDP=143;VDB=4.54206e-05;SGB=-0.651104;RPB=0.845307;MQB=0.909799;MQSB=0.986198;BQB=1;MQ0F=0;AN=2;DP4=48,87,0,8;MQ=56\tGT\t0/0\r\n",
      "rs1490413\t10\t.\tA\t.\t0\t.\tDP=146;SGB=-0.379885;RPB=1;MQB=1;MQSB=0.995617;BQB=1;MQ0F=0;AN=2;DP4=48,97,0,1;MQ=56\tGT\t0/0\r\n",
      "rs1490413\t11\t.\tT\t.\t0\t.\tDP=151;MQSB=0.993448;MQ0F=0;AN=2;DP4=50,101,0,0;MQ=56\tGT\t0/0\r\n",
      "rs1490413\t12\t.\tG\t.\t0\t.\tDP=152;VDB=0.02;SGB=-0.453602;RPB=0.846667;MQB=0.773333;MQSB=0.98759;BQB=1;MQ0F=0;AN=2;DP4=51,99,0,2;MQ=56\tGT\t0/0\r\n",
      "rs1490413\t13\t.\tT\t.\t0\t.\tDP=154;MQSB=0.984343;MQ0F=0;AN=2;DP4=52,102,0,0;MQ=56\tGT\t0/0\r\n",
      "rs1490413\t14\t.\tG\t.\t0\t.\tDP=155;VDB=0.0433485;SGB=-0.511536;RPB=0.315182;MQB=0.803014;MQSB=0.988001;BQB=1;MQ0F=0;AN=2;DP4=50,102,2,1;MQ=56\tGT\t0/0\r\n",
      "rs1490413\t15\t.\tG\t.\t0\t.\tDP=160;SGB=-0.379885;RPB=1;MQB=1;MQSB=0.985418;BQB=1;MQ0F=0;AN=2;DP4=53,106,1,0;MQ=56\tGT\t0/0\r\n",
      "rs1490413\t16\t.\tG\t.\t0\t.\tDP=162;SGB=-0.379885;RPB=1;MQB=1;MQSB=0.982256;BQB=1;MQ0F=0;AN=2;DP4=54,107,1,0;MQ=56\tGT\t0/0\r\n",
      "rs1490413\t17\t.\tT\t.\t0\t.\tDP=167;SGB=-0.379885;RPB=1;MQB=1;MQSB=0.989433;BQB=1;MQ0F=0;AN=2;DP4=55,111,1,0;MQ=56\tGT\t0/0\r\n",
      "rs1490413\t18\t.\tT\t.\t0\t.\tDP=168;MQSB=0.992071;MQ0F=0;AN=2;DP4=56,112,0,0;MQ=56\tGT\t0/0\r\n",
      "rs1490413\t19\t.\tC\t.\t0\t.\tDP=168;MQSB=0.992071;MQ0F=0;AN=2;DP4=56,112,0,0;MQ=56\tGT\t0/0\r\n",
      "rs1490413\t20\t.\tT\t.\t0\t.\tDP=167;MQSB=0.999173;MQ0F=0;AN=2;DP4=56,111,0,0;MQ=57\tGT\t0/0\r\n"
     ]
    }
   ],
   "source": [
    "# Check the vcf file\n",
    "#\n",
    "\n",
    "!head -n 100 {resultDir}/ONTGAP2ttt_sorted.bam.vcf\n"
   ]
  },
  {
   "cell_type": "code",
   "execution_count": 17,
   "metadata": {
    "collapsed": false,
    "scrolled": true
   },
   "outputs": [
    {
     "name": "stdout",
     "output_type": "stream",
     "text": [
      "Got data for 52 SNPs:\n",
      "  rs1005533 (99)  A (61.6 %)  G (38.4 %)\n",
      "  rs1015250 (67)  C (3.0 %)  G (97.0 %)\n",
      "  rs1024116 (111)  A (38.7 %)  G (61.3 %)\n",
      "  rs1028528 (136)  A (2.9 %)  G (97.1 %)\n",
      "  rs1029047 (24)  A (100.0 %)\n",
      "  rs1031825 (82)  A (23.2 %)  C (76.8 %)\n",
      "  rs10495407 (188)  A (60.6 %)  G (39.4 %)\n",
      "  rs1335873 (120)  A (1.7 %)  T (98.3 %)\n",
      "  rs1355366 (166)  A (5.4 %)  G (94.6 %)\n",
      "  rs1357617 (220)  A (100.0 %)\n",
      "  rs1360288 (184)  C (59.8 %)  T (40.2 %)\n",
      "  rs1382387 (207)  G (2.4 %)  T (97.6 %)\n",
      "  rs1413212 (168)  A (64.9 %)  G (35.1 %)\n",
      "  rs1454361 (200)  A (100.0 %)\n",
      "  rs1463729 (157)  A (97.5 %)\n",
      "  rs1490413 (235)  A (98.3 %)\n",
      "  rs1493232 (78)  A (67.9 %)  C (32.1 %)\n",
      "  rs1528460 (85)  C (2.4 %)  T (97.6 %)\n",
      "  rs1886510 (144)  C (4.9 %)  T (95.1 %)\n",
      "  rs1979255 (301)  C (98.0 %)\n",
      "  rs2016276 (70)  A (95.7 %)\n",
      "  rs2040411 (72)  A (0.0 %)  G (100.0 %)\n",
      "  rs2046361 (111)  A (3.6 %)  T (96.4 %)\n",
      "  rs2056277 (199)  C (47.7 %)  T (52.3 %)\n",
      "  rs2076848 (127)  A (72.4 %)  T (27.6 %)\n",
      "  rs2107612 (49)  A (0.0 %)  G (100.0 %)\n",
      "  rs2111980 (212)  A (61.3 %)  G (38.7 %)\n",
      "  rs251934 (136)  C (2.2 %)  T (97.8 %)\n",
      "  rs2830795 (74)  A (74.3 %)  G (25.7 %)\n",
      "  rs2831700 (299)  A (99.0 %)\n",
      "  rs354439 (128)  A (73.4 %)  T (26.6 %)\n",
      "  rs717302 (113)  A (9.7 %)  G (90.3 %)\n",
      "  rs719366 (49)  C (53.1 %)  T (46.9 %)\n",
      "  rs722098 (232)  A (99.1 %)\n",
      "  rs727811 (113)  A (6.2 %)  C (93.8 %)\n",
      "  rs729172 (231)  A (65.4 %)  C (34.6 %)\n",
      "  rs733164 (177)  A (21.5 %)  G (78.5 %)\n",
      "  rs735155 (159)  A (6.3 %)  G (93.7 %)\n",
      "  rs737681 (237)  C (100.0 %)\n",
      "  rs740910 (22)  A (0.0 %)  G (100.0 %)\n",
      "  rs763869 (163)  C (61.3 %)  T (38.7 %)\n",
      "  rs8037429 (69)  C (58.0 %)  T (42.0 %)\n",
      "  rs826472 (144)  C (100.0 %)\n",
      "  rs873196 (149)  C (17.4 %)  T (82.6 %)\n",
      "  rs876724 (118)  C (99.2 %)\n",
      "  rs891700 (39)  A (64.1 %)  G (35.9 %)\n",
      "  rs901398 (204)  C (56.9 %)  T (43.1 %)\n",
      "  rs907100 (150)  C (95.3 %)\n",
      "  rs914165 (165)  A (6.7 %)  G (93.3 %)\n",
      "  rs917118 (407)  C (99.8 %)\n",
      "  rs938283 (101)  C (71.3 %)  T (28.7 %)\n",
      "  rs964681 (81)  C (3.7 %)  T,G (96.3 %)\n"
     ]
    }
   ],
   "source": [
    "# Get SNP profile\n",
    "\n",
    "\n",
    "snpData = {}\n",
    "\n",
    "with open(resultDir+'/ONTGAP4ttt_sorted.bam.vcf') as f:\n",
    "    for l in f:\n",
    "        if l.startswith('#'):\n",
    "            continue\n",
    "            \n",
    "        snp, pos, id, ref, alt, qual, filter, info, d, dd = l.split()\n",
    "        \n",
    "        # Our SNP of interest is always at position 26 of the reference\n",
    "        if int(pos) != 26:\n",
    "            continue\n",
    "\n",
    "        par = {}\n",
    "        for p in info.split(';'):\n",
    "            pv = p.split('=')\n",
    "            par[pv[0]] = pv[1]\n",
    "        \n",
    "        snpData[snp] = {'pos': pos, 'ref': ref, 'alt': alt, 'qual': qual, 'filter': filter, 'info': par}\n",
    "\n",
    "# DEBUG\n",
    "print('Got data for {} SNPs:'.format(len(snpData)))\n",
    "\n",
    "# Save/print results\n",
    "with open(resultDir + '/ttt_profile.csv', 'w') as f:\n",
    "    # Table header\n",
    "    f.write('snp, coverage, ref_allele, ref_percent, alt_allele, alt_percent, genotype\\n')\n",
    "    \n",
    "    # Table data\n",
    "    for s in sorted(snpData.keys()):\n",
    "        totalDepth = int(snpData[s]['info']['DP'])\n",
    "        depthList  = [int(d) for d in snpData[s]['info']['DP4'].split(',')]\n",
    "        refDepth   = sum(depthList[0:2])\n",
    "        altDepth   = sum(depthList[2:4])\n",
    "        \n",
    "        # Estimate the diploid genotype: when the minor allele is more than 10 times weaker than the major allele,\n",
    "        # we should ignore it for a pure sample?\n",
    "        if refDepth > altDepth and altDepth/refDepth < 0.1:\n",
    "            genotype = snpData[s]['ref'] + snpData[s]['ref']\n",
    "        elif altDepth > refDepth and refDepth/altDepth < 0.1:\n",
    "            genotype = snpData[s]['alt'] + snpData[s]['alt']\n",
    "        else:\n",
    "            genotype = snpData[s]['ref'] + snpData[s]['alt']\n",
    "        \n",
    "        if snpData[s]['alt'] == '.':\n",
    "            # Only 1 allele was observed\n",
    "            f.write(','.join([s, str(totalDepth), snpData[s]['ref'], '{:.1f}'.format(100*refDepth/totalDepth), '', '', snpData[s]['ref']+snpData[s]['ref']]) + '\\n')\n",
    "            # DEBUG\n",
    "            print('  {} ({})  {} ({:.1f} %)'.format(s, totalDepth, snpData[s]['ref'], 100*refDepth/totalDepth))\n",
    "        else:\n",
    "            # Two alleles were observed\n",
    "            f.write(','.join([s, str(totalDepth), snpData[s]['ref'], '{:.1f}'.format(100*refDepth/totalDepth), snpData[s]['alt'], '{:.1f}'.format(100*altDepth/totalDepth), genotype]) + '\\n')\n",
    "            # DEBUG\n",
    "            print('  {} ({})  {} ({:.1f} %)  {} ({:.1f} %)'.format(s, totalDepth, snpData[s]['ref'], 100*refDepth/totalDepth, snpData[s]['alt'], 100*altDepth/totalDepth))\n"
   ]
  },
  {
   "cell_type": "markdown",
   "metadata": {
    "collapsed": true
   },
   "source": [
    "## Locus count in fasta"
   ]
  },
  {
   "cell_type": "code",
   "execution_count": 6,
   "metadata": {
    "collapsed": false,
    "scrolled": true
   },
   "outputs": [
    {
     "name": "stdout",
     "output_type": "stream",
     "text": [
      "399\n",
      "592\n",
      "246\n",
      "783\n",
      "407\n",
      "603\n",
      "521\n",
      "478\n",
      "424\n",
      "523\n",
      "264\n",
      "512\n",
      "337\n",
      "396\n",
      "676\n",
      "606\n",
      "246\n",
      "383\n",
      "490\n",
      "443\n",
      "485\n",
      "269\n",
      "228\n",
      "585\n",
      "252\n",
      "456\n",
      "372\n",
      "422\n",
      "196\n",
      "504\n",
      "306\n",
      "463\n",
      "301\n",
      "557\n",
      "463\n",
      "559\n",
      "372\n",
      "293\n",
      "419\n",
      "687\n",
      "389\n",
      "488\n",
      "392\n",
      "304\n",
      "598\n",
      "589\n",
      "518\n",
      "197\n",
      "606\n",
      "623\n",
      "356\n",
      "479\n"
     ]
    }
   ],
   "source": [
    "%%bash\n",
    "\n",
    "cd /home/senne/nanopore/SNP/Nanopore_data/\n",
    "\n",
    "grep -c 'rs2056277' 2_potential_snp_amplicons_3mism.fasta\n",
    "grep -c 'rs1413212' 2_potential_snp_amplicons_3mism.fasta\n",
    "  grep -c 'rs2107612' 2_potential_snp_amplicons_3mism.fasta \n",
    "  grep -c 'rs2111980' 2_potential_snp_amplicons_3mism.fasta \n",
    "  grep -c 'rs251934' 2_potential_snp_amplicons_3mism.fasta\n",
    "  grep -c 'rs1028528' 2_potential_snp_amplicons_3mism.fasta\n",
    "  grep -c 'rs2831700' 2_potential_snp_amplicons_3mism.fasta \n",
    "  grep -c 'rs901398' 2_potential_snp_amplicons_3mism.fasta\n",
    "  grep -c 'rs722098' 2_potential_snp_amplicons_3mism.fasta \n",
    "  grep -c 'rs2076848' 2_potential_snp_amplicons_3mism.fasta \n",
    "  grep -c 'rs1493232' 2_potential_snp_amplicons_3mism.fasta \n",
    "  grep -c 'rs735155' 2_potential_snp_amplicons_3mism.fasta \n",
    " grep -c 'rs1528460' 2_potential_snp_amplicons_3mism.fasta \n",
    "  grep -c 'rs1005533' 2_potential_snp_amplicons_3mism.fasta \n",
    "  grep -c 'rs733164' 2_potential_snp_amplicons_3mism.fasta\n",
    "  grep -c 'rs1029047' 2_potential_snp_amplicons_3mism.fasta \n",
    "  grep -c 'rs727811' 2_potential_snp_amplicons_3mism.fasta\n",
    "  grep -c 'rs1024116' 2_potential_snp_amplicons_3mism.fasta \n",
    "  grep -c 'rs1015250' 2_potential_snp_amplicons_3mism.fasta\n",
    "  grep -c 'rs907100' 2_potential_snp_amplicons_3mism.fasta \n",
    "  grep -c 'rs737681' 2_potential_snp_amplicons_3mism.fasta \n",
    "  grep -c 'rs717302' 2_potential_snp_amplicons_3mism.fasta \n",
    "  grep -c 'rs740910' 2_potential_snp_amplicons_3mism.fasta \n",
    "  grep -c 'rs1979255' 2_potential_snp_amplicons_3mism.fasta\n",
    "  grep -c 'rs719366' 2_potential_snp_amplicons_3mism.fasta\n",
    "  grep -c 'rs2040411' 2_potential_snp_amplicons_3mism.fasta\n",
    "  grep -c 'rs2016276' 2_potential_snp_amplicons_3mism.fasta \n",
    "  grep -c 'rs135761' 2_potential_snp_amplicons_3mism.fasta\n",
    "  grep -c 'rs8037429' 2_potential_snp_amplicons_3mism.fasta\n",
    "  grep -c 'rs1335873' 2_potential_snp_amplicons_3mism.fasta\n",
    "  grep -c 'rs876724' 2_potential_snp_amplicons_3mism.fasta\n",
    "  grep -c 'rs354439' 2_potential_snp_amplicons_3mism.fasta\n",
    "  grep -c 'rs1031825' 2_potential_snp_amplicons_3mism.fasta\n",
    "  grep -c 'rs873196' 2_potential_snp_amplicons_3mism.fasta\n",
    "  grep -c 'rs1463729' 2_potential_snp_amplicons_3mism.fasta\n",
    "  grep -c 'rs1886510' 2_potential_snp_amplicons_3mism.fasta\n",
    "  grep -c 'rs763869' 2_potential_snp_amplicons_3mism.fasta\n",
    "  grep -c 'rs2830795' 2_potential_snp_amplicons_3mism.fasta\n",
    "  grep -c 'rs1454361' 2_potential_snp_amplicons_3mism.fasta\n",
    "  grep -c 'rs1355366' 2_potential_snp_amplicons_3mism.fasta\n",
    "  grep -c 'rs938283' 2_potential_snp_amplicons_3mism.fasta\n",
    "  grep -c 'rs1490413' 2_potential_snp_amplicons_3mism.fasta\n",
    "  grep -c 'rs964681' 2_potential_snp_amplicons_3mism.fasta\n",
    "  grep -c 'rs826472' 2_potential_snp_amplicons_3mism.fasta\n",
    "  grep -c 'rs729172' 2_potential_snp_amplicons_3mism.fasta\n",
    "  grep -c 'rs1382387' 2_potential_snp_amplicons_3mism.fasta\n",
    "  grep -c 'rs10495407' 2_potential_snp_amplicons_3mism.fasta \n",
    "  grep -c 'rs891700' 2_potential_snp_amplicons_3mism.fasta\n",
    "  grep -c 'rs917118' 2_potential_snp_amplicons_3mism.fasta\n",
    "  grep -c 'rs914165' 2_potential_snp_amplicons_3mism.fasta\n",
    "  grep -c 'rs2046361' 2_potential_snp_amplicons_3mism.fasta\n",
    "  grep -c 'rs1360288' 2_potential_snp_amplicons_3mism.fasta\n"
   ]
  },
  {
   "cell_type": "markdown",
   "metadata": {
    "collapsed": true
   },
   "source": []
  },
  {
   "cell_type": "markdown",
   "metadata": {
    "collapsed": true
   },
   "source": [
    "# Plot mapping"
   ]
  },
  {
   "cell_type": "code",
   "execution_count": 52,
   "metadata": {
    "collapsed": false
   },
   "outputs": [
    {
     "name": "stdout",
     "output_type": "stream",
     "text": [
      "['1 55,1', '2 10,7', '3 38,2', '4 4,2', '5 78,1', '6 23,9', '7 59,4', '8 5,1', '9 7,4', '10 95,6', '11 53,3', '12 3', '13 63,7', '14 99,1', '15 94,9', '16 95,7', '17 69,5', '18 8,4', '19 8,7', '20 93,8', '21 85,5', '22 1,6', '23 6,2', '24 48', '25 66,4', '26 2,3', '27 55,5', '28 4,6', '29 66,3', '30 96,6', '31 56,8', '32 11,7', '33 54,7', '34 97', '35 9,7', '36 61,3', '37 28,4', '38 7,8', '39 96,2', '40 2,3', '41 58,1', '42 55,5', '43 97,7', '44 23,4', '45 96,5', '46 61,6', '47 56,4', '48 90,5', '49 9,1', '50 98,7', '51 65', '52 14,2', '']\n"
     ]
    },
    {
     "ename": "IndexError",
     "evalue": "list index out of range",
     "output_type": "error",
     "traceback": [
      "\u001b[1;31m---------------------------------------------------------------------------\u001b[0m",
      "\u001b[1;31mIndexError\u001b[0m                                Traceback (most recent call last)",
      "\u001b[1;32m<ipython-input-52-d21dcd508237>\u001b[0m in \u001b[0;36m<module>\u001b[1;34m()\u001b[0m\n\u001b[0;32m      8\u001b[0m \u001b[0mprint\u001b[0m \u001b[1;33m(\u001b[0m\u001b[0mdata\u001b[0m\u001b[1;33m)\u001b[0m\u001b[1;33m\u001b[0m\u001b[0m\n\u001b[0;32m      9\u001b[0m \u001b[0mx\u001b[0m \u001b[1;33m=\u001b[0m \u001b[1;33m[\u001b[0m\u001b[0mrow\u001b[0m\u001b[1;33m.\u001b[0m\u001b[0msplit\u001b[0m\u001b[1;33m(\u001b[0m\u001b[1;34m' '\u001b[0m\u001b[1;33m)\u001b[0m\u001b[1;33m[\u001b[0m\u001b[1;36m0\u001b[0m\u001b[1;33m]\u001b[0m \u001b[1;32mfor\u001b[0m \u001b[0mrow\u001b[0m \u001b[1;32min\u001b[0m \u001b[0mdata\u001b[0m\u001b[1;33m]\u001b[0m\u001b[1;33m\u001b[0m\u001b[0m\n\u001b[1;32m---> 10\u001b[1;33m \u001b[0my\u001b[0m \u001b[1;33m=\u001b[0m \u001b[1;33m[\u001b[0m\u001b[0mrow\u001b[0m\u001b[1;33m.\u001b[0m\u001b[0msplit\u001b[0m\u001b[1;33m(\u001b[0m\u001b[1;34m' '\u001b[0m\u001b[1;33m)\u001b[0m\u001b[1;33m[\u001b[0m\u001b[1;36m1\u001b[0m\u001b[1;33m]\u001b[0m \u001b[1;32mfor\u001b[0m \u001b[0mrow\u001b[0m \u001b[1;32min\u001b[0m \u001b[0mdata\u001b[0m\u001b[1;33m]\u001b[0m\u001b[1;33m\u001b[0m\u001b[0m\n\u001b[0m\u001b[0;32m     11\u001b[0m \u001b[1;33m\u001b[0m\u001b[0m\n\u001b[0;32m     12\u001b[0m \u001b[1;33m\u001b[0m\u001b[0m\n",
      "\u001b[1;32m<ipython-input-52-d21dcd508237>\u001b[0m in \u001b[0;36m<listcomp>\u001b[1;34m(.0)\u001b[0m\n\u001b[0;32m      8\u001b[0m \u001b[0mprint\u001b[0m \u001b[1;33m(\u001b[0m\u001b[0mdata\u001b[0m\u001b[1;33m)\u001b[0m\u001b[1;33m\u001b[0m\u001b[0m\n\u001b[0;32m      9\u001b[0m \u001b[0mx\u001b[0m \u001b[1;33m=\u001b[0m \u001b[1;33m[\u001b[0m\u001b[0mrow\u001b[0m\u001b[1;33m.\u001b[0m\u001b[0msplit\u001b[0m\u001b[1;33m(\u001b[0m\u001b[1;34m' '\u001b[0m\u001b[1;33m)\u001b[0m\u001b[1;33m[\u001b[0m\u001b[1;36m0\u001b[0m\u001b[1;33m]\u001b[0m \u001b[1;32mfor\u001b[0m \u001b[0mrow\u001b[0m \u001b[1;32min\u001b[0m \u001b[0mdata\u001b[0m\u001b[1;33m]\u001b[0m\u001b[1;33m\u001b[0m\u001b[0m\n\u001b[1;32m---> 10\u001b[1;33m \u001b[0my\u001b[0m \u001b[1;33m=\u001b[0m \u001b[1;33m[\u001b[0m\u001b[0mrow\u001b[0m\u001b[1;33m.\u001b[0m\u001b[0msplit\u001b[0m\u001b[1;33m(\u001b[0m\u001b[1;34m' '\u001b[0m\u001b[1;33m)\u001b[0m\u001b[1;33m[\u001b[0m\u001b[1;36m1\u001b[0m\u001b[1;33m]\u001b[0m \u001b[1;32mfor\u001b[0m \u001b[0mrow\u001b[0m \u001b[1;32min\u001b[0m \u001b[0mdata\u001b[0m\u001b[1;33m]\u001b[0m\u001b[1;33m\u001b[0m\u001b[0m\n\u001b[0m\u001b[0;32m     11\u001b[0m \u001b[1;33m\u001b[0m\u001b[0m\n\u001b[0;32m     12\u001b[0m \u001b[1;33m\u001b[0m\u001b[0m\n",
      "\u001b[1;31mIndexError\u001b[0m: list index out of range"
     ]
    }
   ],
   "source": [
    "import numpy as np\n",
    "import matplotlib.pyplot as plt\n",
    "\n",
    "with open(\"/home/senne/nanopore/SNP/test\") as f:\n",
    "    data = f.read()\n",
    "\n",
    "data = data.split('\\n')\n",
    "print (data)\n",
    "x = [row.split(' ')[0] for row in data]\n",
    "y = [row.split(' ')[1] for row in data]\n",
    "\n",
    "\n",
    "fig = plt.figure()"
   ]
  },
  {
   "cell_type": "code",
   "execution_count": 58,
   "metadata": {
    "collapsed": false
   },
   "outputs": [],
   "source": [
    "import numpy as np\n",
    "import matplotlib.pyplot as plt\n",
    "\n",
    "\n",
    "\n",
    "N = 5\n",
    "\n",
    "Allele1 = (4,5,3,2,1)\n",
    "\n",
    "Allele2 = (1,2,3,5,4)\n",
    "\n",
    "#Other= (2,25,25,25,2)\n",
    "\n",
    "width = 0.25\n",
    "ind = np.arange(N)  \n",
    "\n",
    "rects1 = plt.bar(ind, Allele1, width, color='r')\n",
    "\n",
    "rects2 = plt.bar(ind+width, Allele2, width, color='b')\n",
    "\n",
    "#rects3 = plt.bar(ind+width+width, Other, width, color='y')\n",
    "\n",
    "\n",
    "\n",
    "# add some text for labels, title and axes ticks\n",
    "ax.set_ylabel('Relative frequency')\n",
    "#ax.set_title('Scores by group and gender')\n",
    "ax.set_xticks(ind)\n",
    "ax.set_xticklabels(('a,b,c,d,g'))\n",
    "ax.legend((rects1[0], rects2[0]), ('Men', 'Women'))\n",
    "\n",
    "plt.show()"
   ]
  },
  {
   "cell_type": "code",
   "execution_count": null,
   "metadata": {
    "collapsed": true
   },
   "outputs": [],
   "source": []
  }
 ],
 "metadata": {
  "kernelspec": {
   "display_name": "Python 3",
   "language": "python",
   "name": "python3"
  },
  "language_info": {
   "codemirror_mode": {
    "name": "ipython",
    "version": 3
   },
   "file_extension": ".py",
   "mimetype": "text/x-python",
   "name": "python",
   "nbconvert_exporter": "python",
   "pygments_lexer": "ipython3",
   "version": "3.3.0"
  }
 },
 "nbformat": 4,
 "nbformat_minor": 0
}
